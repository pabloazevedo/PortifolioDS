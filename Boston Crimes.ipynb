{
 "cells": [
  {
   "cell_type": "markdown",
   "metadata": {},
   "source": [
    "data source: https://www.kaggle.com/AnalyzeBoston/crimes-in-boston\n",
    "\n",
    "\n",
    "updated: https://data.boston.gov/dataset/crime-incident-reports-august-2015-to-date-source-new-system\n",
    "\n",
    "\n",
    "Features de Dia e Noite durate o ano em Boston,MA.\n",
    "https://www.timeanddate.com/sun/usa/boston\n",
    "\n",
    "\n",
    "Dados Climáticos fornecidos pela NOAA (National Oceanic and Atmospheric Administration). A NOAA é um órgão para assuntos sobre meteorologia, oceanos, atmosfera e clima, advertindo sobre perigos no tempo e mares, guia o uso e a proteção do oceano e de recursos litorâneos, e conduzem pesquisas para melhorar a compreensão do meio ambiente (https://pt.wikipedia.org/wiki/Administra%C3%A7%C3%A3o_Oce%C3%A2nica_e_Atmosf%C3%A9rica_Nacional). \n",
    "\n",
    "https://www.climate.gov/maps-data/dataset/past-weather-zip-code-data-table\n",
    "https://www.ncdc.noaa.gov/cdo-web/search\n",
    "\n",
    "\n",
    "\n",
    "Exemplos\n",
    "Oleksandr Kosovan\n",
    "https://www.kaggle.com/kosovanolexandr/crimes-in-boston-multiclass-clustering\n",
    "\n",
    "rgriffin\n",
    "https://www.kaggle.com/heesoo37/boston-crimes-starter-eda"
   ]
  },
  {
   "cell_type": "code",
   "execution_count": 1,
   "metadata": {},
   "outputs": [],
   "source": [
    "import datetime\n",
    "import pandas as pd\n",
    "import seaborn as sns\n",
    "import matplotlib.pyplot as plt\n",
    "%matplotlib inline \n",
    "\n",
    "from workalendar.usa import UnitedStates\n",
    "from datetime import datetime\n",
    "\n",
    "\n"
   ]
  },
  {
   "cell_type": "code",
   "execution_count": 2,
   "metadata": {},
   "outputs": [
    {
     "name": "stderr",
     "output_type": "stream",
     "text": [
      "C:\\Anaconda3\\lib\\site-packages\\IPython\\core\\interactiveshell.py:3058: DtypeWarning: Columns (6) have mixed types. Specify dtype option on import or set low_memory=False.\n",
      "  interactivity=interactivity, compiler=compiler, result=result)\n"
     ]
    }
   ],
   "source": [
    "#crimes = pd.read_parquet('crime.parquet')\n",
    "\n",
    "crimes = pd.read_csv('crime.csv')\n",
    "offense_codes = pd.read_csv('offense_codes.csv', encoding = \"ISO-8859-1\")\n",
    "boston_noaa = pd.read_csv('2012098.csv', encoding = \"ISO-8859-1\")"
   ]
  },
  {
   "cell_type": "code",
   "execution_count": null,
   "metadata": {},
   "outputs": [],
   "source": [
    "crimes.info()"
   ]
  },
  {
   "cell_type": "markdown",
   "metadata": {},
   "source": [
    "### Data wrangling/Data munging"
   ]
  },
  {
   "cell_type": "markdown",
   "metadata": {},
   "source": [
    "1. Split do campo de timestamp do dataset de crimes para utilização posterior e transformação em Hash para utilização em merges."
   ]
  },
  {
   "cell_type": "code",
   "execution_count": 3,
   "metadata": {},
   "outputs": [],
   "source": [
    "new = crimes[\"OCCURRED_ON_DATE\"].str.split(\" \", n = 1, expand = True) \n",
    "crimes[\"DdMmYy\"]= new[0] \n",
    "crimes[\"HsMnSg\"]= new[1]\n",
    "\n",
    "# hash\n",
    "crimes['hash'] = crimes['DdMmYy'].apply(hash)\n",
    "\n",
    "# Drop das colunas temporarias usadas\n",
    "crimes.drop(columns =[\"DdMmYy\",\"HsMnSg\"], inplace = True) \n"
   ]
  },
  {
   "cell_type": "markdown",
   "metadata": {},
   "source": [
    "2. Conversão campo OCCURRED_ON_DATE de string para timestamp"
   ]
  },
  {
   "cell_type": "code",
   "execution_count": 4,
   "metadata": {},
   "outputs": [],
   "source": [
    "crimes['OCCURRED_ON_DATE'] = pd.to_datetime(crimes['OCCURRED_ON_DATE'])"
   ]
  },
  {
   "cell_type": "markdown",
   "metadata": {},
   "source": [
    "3. Criação de campo com hash da data para marge com os dados de crimes e ocorrências"
   ]
  },
  {
   "cell_type": "code",
   "execution_count": 5,
   "metadata": {},
   "outputs": [],
   "source": [
    "boston_noaa.drop(columns =[\"STATION\",\"NAME\"], inplace = True) \n",
    "# hash\n",
    "boston_noaa['hash'] = boston_noaa['DATE'].apply(hash)\n"
   ]
  },
  {
   "cell_type": "code",
   "execution_count": 6,
   "metadata": {},
   "outputs": [
    {
     "data": {
      "text/html": [
       "<div>\n",
       "<style scoped>\n",
       "    .dataframe tbody tr th:only-of-type {\n",
       "        vertical-align: middle;\n",
       "    }\n",
       "\n",
       "    .dataframe tbody tr th {\n",
       "        vertical-align: top;\n",
       "    }\n",
       "\n",
       "    .dataframe thead th {\n",
       "        text-align: right;\n",
       "    }\n",
       "</style>\n",
       "<table border=\"1\" class=\"dataframe\">\n",
       "  <thead>\n",
       "    <tr style=\"text-align: right;\">\n",
       "      <th></th>\n",
       "      <th>DATE</th>\n",
       "      <th>PRCP</th>\n",
       "      <th>SNWD</th>\n",
       "      <th>TAVG</th>\n",
       "      <th>TMAX</th>\n",
       "      <th>TMIN</th>\n",
       "      <th>hash</th>\n",
       "    </tr>\n",
       "  </thead>\n",
       "  <tbody>\n",
       "    <tr>\n",
       "      <th>0</th>\n",
       "      <td>2015-06-14</td>\n",
       "      <td>0.00</td>\n",
       "      <td>NaN</td>\n",
       "      <td>70</td>\n",
       "      <td>74</td>\n",
       "      <td>62</td>\n",
       "      <td>-2921902915665104107</td>\n",
       "    </tr>\n",
       "    <tr>\n",
       "      <th>1</th>\n",
       "      <td>2015-06-15</td>\n",
       "      <td>0.40</td>\n",
       "      <td>NaN</td>\n",
       "      <td>58</td>\n",
       "      <td>63</td>\n",
       "      <td>54</td>\n",
       "      <td>-8452596588912614467</td>\n",
       "    </tr>\n",
       "    <tr>\n",
       "      <th>2</th>\n",
       "      <td>2015-06-16</td>\n",
       "      <td>0.00</td>\n",
       "      <td>NaN</td>\n",
       "      <td>59</td>\n",
       "      <td>71</td>\n",
       "      <td>56</td>\n",
       "      <td>7256902690820061429</td>\n",
       "    </tr>\n",
       "    <tr>\n",
       "      <th>3</th>\n",
       "      <td>2015-06-17</td>\n",
       "      <td>0.00</td>\n",
       "      <td>NaN</td>\n",
       "      <td>66</td>\n",
       "      <td>69</td>\n",
       "      <td>59</td>\n",
       "      <td>-3774020139615754689</td>\n",
       "    </tr>\n",
       "    <tr>\n",
       "      <th>4</th>\n",
       "      <td>2015-06-18</td>\n",
       "      <td>0.00</td>\n",
       "      <td>NaN</td>\n",
       "      <td>65</td>\n",
       "      <td>76</td>\n",
       "      <td>57</td>\n",
       "      <td>8561709173484276372</td>\n",
       "    </tr>\n",
       "    <tr>\n",
       "      <th>...</th>\n",
       "      <td>...</td>\n",
       "      <td>...</td>\n",
       "      <td>...</td>\n",
       "      <td>...</td>\n",
       "      <td>...</td>\n",
       "      <td>...</td>\n",
       "      <td>...</td>\n",
       "    </tr>\n",
       "    <tr>\n",
       "      <th>1677</th>\n",
       "      <td>2020-01-16</td>\n",
       "      <td>0.10</td>\n",
       "      <td>NaN</td>\n",
       "      <td>42</td>\n",
       "      <td>47</td>\n",
       "      <td>30</td>\n",
       "      <td>7199250700675343214</td>\n",
       "    </tr>\n",
       "    <tr>\n",
       "      <th>1678</th>\n",
       "      <td>2020-01-17</td>\n",
       "      <td>0.00</td>\n",
       "      <td>NaN</td>\n",
       "      <td>25</td>\n",
       "      <td>30</td>\n",
       "      <td>16</td>\n",
       "      <td>5942908819915253321</td>\n",
       "    </tr>\n",
       "    <tr>\n",
       "      <th>1679</th>\n",
       "      <td>2020-01-18</td>\n",
       "      <td>0.28</td>\n",
       "      <td>NaN</td>\n",
       "      <td>18</td>\n",
       "      <td>33</td>\n",
       "      <td>14</td>\n",
       "      <td>-4819138499877504187</td>\n",
       "    </tr>\n",
       "    <tr>\n",
       "      <th>1680</th>\n",
       "      <td>2020-01-19</td>\n",
       "      <td>0.02</td>\n",
       "      <td>NaN</td>\n",
       "      <td>33</td>\n",
       "      <td>45</td>\n",
       "      <td>24</td>\n",
       "      <td>-1455520885710012656</td>\n",
       "    </tr>\n",
       "    <tr>\n",
       "      <th>1681</th>\n",
       "      <td>2020-01-20</td>\n",
       "      <td>0.00</td>\n",
       "      <td>NaN</td>\n",
       "      <td>26</td>\n",
       "      <td>30</td>\n",
       "      <td>19</td>\n",
       "      <td>-381003496113116299</td>\n",
       "    </tr>\n",
       "  </tbody>\n",
       "</table>\n",
       "<p>1682 rows × 7 columns</p>\n",
       "</div>"
      ],
      "text/plain": [
       "            DATE  PRCP  SNWD  TAVG  TMAX  TMIN                 hash\n",
       "0     2015-06-14  0.00   NaN    70    74    62 -2921902915665104107\n",
       "1     2015-06-15  0.40   NaN    58    63    54 -8452596588912614467\n",
       "2     2015-06-16  0.00   NaN    59    71    56  7256902690820061429\n",
       "3     2015-06-17  0.00   NaN    66    69    59 -3774020139615754689\n",
       "4     2015-06-18  0.00   NaN    65    76    57  8561709173484276372\n",
       "...          ...   ...   ...   ...   ...   ...                  ...\n",
       "1677  2020-01-16  0.10   NaN    42    47    30  7199250700675343214\n",
       "1678  2020-01-17  0.00   NaN    25    30    16  5942908819915253321\n",
       "1679  2020-01-18  0.28   NaN    18    33    14 -4819138499877504187\n",
       "1680  2020-01-19  0.02   NaN    33    45    24 -1455520885710012656\n",
       "1681  2020-01-20  0.00   NaN    26    30    19  -381003496113116299\n",
       "\n",
       "[1682 rows x 7 columns]"
      ]
     },
     "execution_count": 6,
     "metadata": {},
     "output_type": "execute_result"
    }
   ],
   "source": [
    "boston_noaa"
   ]
  },
  {
   "cell_type": "markdown",
   "metadata": {},
   "source": [
    "4. Cruzamento dos de ocorrência com códigos e descrições"
   ]
  },
  {
   "cell_type": "code",
   "execution_count": 7,
   "metadata": {},
   "outputs": [],
   "source": [
    "crimes['CODE'] = crimes['OFFENSE_CODE']\n",
    "\n",
    "crime_code = pd.merge(crimes, offense_codes, on=\"CODE\", how=\"left\")\n",
    "\n",
    "crime_code.drop(columns =[\"OFFENSE_CODE\"], inplace = True) "
   ]
  },
  {
   "cell_type": "markdown",
   "metadata": {},
   "source": [
    "### Data Analysis"
   ]
  },
  {
   "cell_type": "markdown",
   "metadata": {},
   "source": [
    "Qual é o local da cidade com maior quantidade de ocorrências. Pode ser rua, avenida ou outro tipo."
   ]
  },
  {
   "cell_type": "code",
   "execution_count": 8,
   "metadata": {},
   "outputs": [
    {
     "name": "stdout",
     "output_type": "stream",
     "text": [
      "<class 'pandas.core.frame.DataFrame'>\n",
      "RangeIndex: 455910 entries, 0 to 455909\n",
      "Data columns (total 19 columns):\n",
      "INCIDENT_NUMBER        455910 non-null object\n",
      "OFFENSE_CODE           455910 non-null int64\n",
      "OFFENSE_CODE_GROUP     426839 non-null object\n",
      "OFFENSE_DESCRIPTION    455910 non-null object\n",
      "DISTRICT               453603 non-null object\n",
      "REPORTING_AREA         455910 non-null object\n",
      "SHOOTING               30817 non-null object\n",
      "OCCURRED_ON_DATE       455910 non-null datetime64[ns]\n",
      "YEAR                   455910 non-null int64\n",
      "MONTH                  455910 non-null int64\n",
      "DAY_OF_WEEK            455910 non-null object\n",
      "HOUR                   455910 non-null int64\n",
      "UCR_PART               426729 non-null object\n",
      "STREET                 440634 non-null object\n",
      "Lat                    428184 non-null float64\n",
      "Long                   428184 non-null float64\n",
      "Location               455910 non-null object\n",
      "hash                   455910 non-null int64\n",
      "CODE                   455910 non-null int64\n",
      "dtypes: datetime64[ns](1), float64(2), int64(6), object(10)\n",
      "memory usage: 66.1+ MB\n"
     ]
    }
   ],
   "source": [
    "crime_code.info()"
   ]
  },
  {
   "cell_type": "code",
   "execution_count": 9,
   "metadata": {},
   "outputs": [
    {
     "name": "stdout",
     "output_type": "stream",
     "text": [
      "<class 'pandas.core.frame.DataFrame'>\n",
      "RangeIndex: 576 entries, 0 to 575\n",
      "Data columns (total 2 columns):\n",
      "CODE    576 non-null int64\n",
      "NAME    576 non-null object\n",
      "dtypes: int64(1), object(1)\n",
      "memory usage: 9.1+ KB\n"
     ]
    }
   ],
   "source": [
    "offense_codes.info()"
   ]
  },
  {
   "cell_type": "code",
   "execution_count": 10,
   "metadata": {},
   "outputs": [
    {
     "data": {
      "image/png": "[encoded data removed]",
      "text/plain": [
       "<Figure size 1440x360 with 1 Axes>"
      ]
     },
     "metadata": {
      "needs_background": "light"
     },
     "output_type": "display_data"
    }
   ],
   "source": [
    "crime_count  = crime_code['STREET'].value_counts()\n",
    "crime_count = crime_count[:10,]\n",
    "plt.figure(figsize=(20,5))\n",
    "sns.barplot(crime_count.index, crime_count.values, alpha=0.8)\n",
    "plt.title('Locais com maior quantidade de Crimes')\n",
    "plt.ylabel('Número de ocorrências', fontsize=12)\n",
    "plt.xlabel('Rua', fontsize=12)\n",
    "plt.show()"
   ]
  },
  {
   "cell_type": "code",
   "execution_count": 11,
   "metadata": {},
   "outputs": [
    {
     "data": {
      "image/png": "[encoded data removed]",
      "text/plain": [
       "<Figure size 2376x360 with 1 Axes>"
      ]
     },
     "metadata": {
      "needs_background": "light"
     },
     "output_type": "display_data"
    }
   ],
   "source": [
    "crime_count  = crime_code['NAME'].value_counts()\n",
    "crime_count = crime_count[:10,]\n",
    "plt.figure(figsize=(33,5))\n",
    "sns.barplot(crime_count.index, crime_count.values, alpha=0.8)\n",
    "plt.title('Maiores quantidades de queixas e ocorrências')\n",
    "plt.ylabel('Número de ocorrências', fontsize=12)\n",
    "plt.xlabel('Queixas', fontsize=12)\n",
    "plt.show()"
   ]
  },
  {
   "cell_type": "code",
   "execution_count": 12,
   "metadata": {},
   "outputs": [
    {
     "data": {
      "image/png": "[encoded data removed]",
      "text/plain": [
       "<Figure size 1080x360 with 1 Axes>"
      ]
     },
     "metadata": {
      "needs_background": "light"
     },
     "output_type": "display_data"
    }
   ],
   "source": [
    "crime_count  = crime_code['HOUR'].value_counts()\n",
    "crime_count = crime_count[:24,]\n",
    "plt.figure(figsize=(15,5))\n",
    "sns.barplot(crime_count.index, crime_count.values, alpha=0.8)\n",
    "plt.title('Hora com maior quantidade de ocorrências')\n",
    "plt.ylabel('Número de ocorrências', fontsize=12)\n",
    "plt.xlabel('Hora', fontsize=12)\n",
    "plt.show()"
   ]
  },
  {
   "cell_type": "code",
   "execution_count": 13,
   "metadata": {},
   "outputs": [
    {
     "data": {
      "image/png": "[encoded data removed]",
      "text/plain": [
       "<Figure size 1080x360 with 1 Axes>"
      ]
     },
     "metadata": {
      "needs_background": "light"
     },
     "output_type": "display_data"
    }
   ],
   "source": [
    "crime_count  = crime_code['DAY_OF_WEEK'].value_counts()\n",
    "crime_count = crime_count[:7,]\n",
    "plt.figure(figsize=(15,5))\n",
    "sns.barplot(crime_count.index, crime_count.values, alpha=0.8)\n",
    "plt.title('Dia da Semana com maior quantidade de ocorrências')\n",
    "plt.ylabel('Número de ocorrências', fontsize=12)\n",
    "plt.xlabel('Dia da Semana', fontsize=12)\n",
    "plt.show()"
   ]
  },
  {
   "cell_type": "code",
   "execution_count": 14,
   "metadata": {},
   "outputs": [
    {
     "data": {
      "image/png": "[encoded data removed]",
      "text/plain": [
       "<Figure size 1080x360 with 1 Axes>"
      ]
     },
     "metadata": {
      "needs_background": "light"
     },
     "output_type": "display_data"
    }
   ],
   "source": [
    "crime_count  = crime_code['MONTH'].value_counts()\n",
    "crime_count = crime_count[:12,]\n",
    "plt.figure(figsize=(15,5))\n",
    "sns.barplot(crime_count.index, crime_count.values, alpha=0.8)\n",
    "plt.title('Mês com maior quantidade de ocorrências')\n",
    "plt.ylabel('Número de ocorrências', fontsize=12)\n",
    "plt.xlabel('Mês', fontsize=12)\n",
    "plt.show()"
   ]
  },
  {
   "cell_type": "code",
   "execution_count": 15,
   "metadata": {},
   "outputs": [
    {
     "data": {
      "image/png": "[encoded data removed]",
      "text/plain": [
       "<Figure size 1080x360 with 1 Axes>"
      ]
     },
     "metadata": {
      "needs_background": "light"
     },
     "output_type": "display_data"
    }
   ],
   "source": [
    "crime_count  = crime_code['DISTRICT'].value_counts()\n",
    "crime_count = crime_count[:12,]\n",
    "plt.figure(figsize=(15,5))\n",
    "sns.barplot(crime_count.index, crime_count.values, alpha=0.8)\n",
    "plt.title('Distrito com maior quantidade de ocorrências')\n",
    "plt.ylabel('Número de ocorrências', fontsize=12)\n",
    "plt.xlabel('Distrito', fontsize=12)\n",
    "plt.show()"
   ]
  },
  {
   "cell_type": "code",
   "execution_count": 18,
   "metadata": {},
   "outputs": [
    {
     "data": {
      "image/png": "[encoded data removed]",
      "text/plain": [
       "<Figure size 432x288 with 1 Axes>"
      ]
     },
     "metadata": {
      "needs_background": "light"
     },
     "output_type": "display_data"
    }
   ],
   "source": [
    "plt.title(\"Volume de precipitações pluviométricas em 5 anos\")\n",
    "plt.xlabel(\"DiasMesesAnos\")\n",
    "plt.ylabel(\"degrees F +/- from average\")\n",
    "plt.bar(boston_noaa['DATE'], boston_noaa['TAVG'], color='blue')\n",
    "plt.show()"
   ]
  },
  {
   "cell_type": "markdown",
   "metadata": {},
   "source": [
    "Distribuição das ocorrências em um mapa da cidade de Boston. No gráfico demostra a ocorrência em Latitude e Longitude."
   ]
  },
  {
   "cell_type": "code",
   "execution_count": null,
   "metadata": {},
   "outputs": [],
   "source": [
    "location_shoot = crimes[['Lat','Long']]\n",
    "location_shoot = location_shoot.dropna()\n",
    "\n",
    "location_shoot = location_shoot.loc[(location_shoot['Lat']>40) & (location_shoot['Long'] < -60)]  \n",
    "\n",
    "x_shoot = location_shoot['Long']\n",
    "y_shoot = location_shoot['Lat']\n",
    "\n",
    "# Custom the inside plot: options are: “scatter” | “reg” | “resid” | “kde” | “hex”\n",
    "#sns.jointplot(x_shoot, y_shoot, kind='scatter')\n",
    "#sns.jointplot(x_shoot, y_shoot, kind='reg')\n",
    "#sns.jointplot(x_shoot, y_shoot, kind='resid')\n",
    "#sns.jointplot(x_shoot, y_shoot, kind='hex')\n",
    "sns.jointplot(x_shoot, y_shoot, kind='kde')"
   ]
  },
  {
   "cell_type": "markdown",
   "metadata": {},
   "source": [
    "### Feature Engeneering"
   ]
  },
  {
   "cell_type": "markdown",
   "metadata": {},
   "source": [
    "Criação de features interessantes que poder ser utilizadas na interpretação de eventos e que poderão ser úteis no para o modelo. "
   ]
  },
  {
   "cell_type": "markdown",
   "metadata": {},
   "source": [
    "#### Dia e Noite"
   ]
  },
  {
   "cell_type": "markdown",
   "metadata": {},
   "source": [
    "A primeira que será criada é Dia ou Noite, ou seja, a ocorrêcia se deu em durante o dia ou durante a noite."
   ]
  },
  {
   "cell_type": "markdown",
   "metadata": {},
   "source": [
    "1.Definição das variáveis como valores padrões"
   ]
  },
  {
   "cell_type": "code",
   "execution_count": 25,
   "metadata": {},
   "outputs": [],
   "source": [
    "crime_code['Day'] = 0\n",
    "crime_code['Night'] = 0"
   ]
  },
  {
   "cell_type": "markdown",
   "metadata": {},
   "source": [
    "2.Marcação dos dados"
   ]
  },
  {
   "cell_type": "code",
   "execution_count": 26,
   "metadata": {},
   "outputs": [],
   "source": [
    "# Day or night for 1st month\n",
    "crime_code['Day'].loc[(crime_code['MONTH'] == 1) & (crime_code['HOUR'] >= 6) & (crime_code['HOUR'] <= 18)] = 1\n",
    "\n",
    "# Day or night for 2st month\n",
    "crime_code['Day'].loc[(crime_code['MONTH'] == 2) & (crime_code['HOUR'] >= 6) & (crime_code['HOUR'] <= 19)] = 1\n",
    "\n",
    "# for 3st month\n",
    "crime_code['Day'].loc[(crime_code['MONTH'] == 3) & (crime_code['HOUR'] >= 6) & (crime_code['HOUR'] <= 20)] = 1\n",
    "\n",
    "# Day or night for 4st month\n",
    "crime_code['Day'].loc[(crime_code['MONTH'] == 4) & (crime_code['HOUR'] >= 5) & (crime_code['HOUR'] <= 20)] = 1\n",
    "\n",
    "# Day or night for 5st month\n",
    "crime_code['Day'].loc[(crime_code['MONTH'] == 5) & (crime_code['HOUR'] >= 5) & (crime_code['HOUR'] <= 21)] = 1\n",
    "\n",
    "# Day or night for 6st month\n",
    "crime_code['Day'].loc[(crime_code['MONTH'] == 6) & (crime_code['HOUR'] >= 4) & (crime_code['HOUR'] <= 21)] = 1\n",
    "\n",
    "# Day or night for 7st month\n",
    "crime_code['Day'].loc[(crime_code['MONTH'] == 7) & (crime_code['HOUR'] >= 5) & (crime_code['HOUR'] <= 21)] = 1\n",
    "\n",
    "# Day or night for 8st month\n",
    "crime_code['Day'].loc[(crime_code['MONTH'] == 8) & (crime_code['HOUR'] >= 5) & (crime_code['HOUR'] <= 21)] = 1\n",
    "\n",
    "# Day or night for 9st month\n",
    "crime_code['Day'].loc[(crime_code['MONTH'] == 9) & (crime_code['HOUR'] >= 6) & (crime_code['HOUR'] <= 20)] = 1\n",
    "\n",
    "# Day or night for 10st month\n",
    "crime_code['Day'].loc[(crime_code['MONTH'] == 10) & (crime_code['HOUR'] >= 6) & (crime_code['HOUR'] <= 19)] = 1\n",
    "\n",
    "# Day or night for 11st month\n",
    "crime_code['Day'].loc[(crime_code['MONTH'] == 11) & (crime_code['HOUR'] >= 6) & (crime_code['HOUR'] <= 17)] = 1\n",
    "\n",
    "# Day or night for 12st month\n",
    "crime_code['Day'].loc[(crime_code['MONTH'] == 12) & (crime_code['HOUR'] >= 7) & (crime_code['HOUR'] <= 17)] = 1\n"
   ]
  },
  {
   "cell_type": "markdown",
   "metadata": {},
   "source": [
    "3.Marcação dos dados, quando for noite marca 1."
   ]
  },
  {
   "cell_type": "code",
   "execution_count": 27,
   "metadata": {},
   "outputs": [],
   "source": [
    "crime_code['Night'].loc[crime_code['Day']==0]=1"
   ]
  },
  {
   "cell_type": "code",
   "execution_count": 28,
   "metadata": {},
   "outputs": [
    {
     "data": {
      "image/png": "[encoded data removed]",
      "text/plain": [
       "<Figure size 648x360 with 1 Axes>"
      ]
     },
     "metadata": {
      "needs_background": "light"
     },
     "output_type": "display_data"
    }
   ],
   "source": [
    "crime_count  = crime_code['Night'].value_counts()\n",
    "crime_count = crime_count[:12,]\n",
    "plt.figure(figsize=(9,5))\n",
    "sns.barplot(crime_count.index, crime_count.values, alpha=0.8)\n",
    "plt.title('Período do dia da ocorrência')\n",
    "plt.ylabel('Quantidade de ocorrências Dia ou Noite', fontsize=12)\n",
    "plt.xlabel('Noite / Dia', fontsize=12)\n",
    "plt.show()"
   ]
  },
  {
   "cell_type": "markdown",
   "metadata": {},
   "source": [
    "#### Feriados Nacionais"
   ]
  },
  {
   "cell_type": "markdown",
   "metadata": {},
   "source": [
    "A segunda feature que será criada é Feriados (Holidays), a experiência policial afirma que grande parte das ocorrências ocorrem nos feriados. São diversas classes de eventos que podem ser classificados dos mais brandos a o mais graves. Os feriados nacionais em questão são dos Estados Unidos da Américas (USA), no Estado de Massachusetts acrescenta o Patriot's Day, dia em que ocorre a Boston Marathon."
   ]
  },
  {
   "cell_type": "code",
   "execution_count": 29,
   "metadata": {},
   "outputs": [],
   "source": [
    "cal = UnitedStates()\n",
    "\n",
    "start = crime_code['OCCURRED_ON_DATE'].min()\n",
    "start_year = start.year  # Assuming dates are Timestamp objects.\n",
    "end = crime_code['OCCURRED_ON_DATE'].max()\n",
    "end_year = end.year \n",
    "\n",
    "holidays = set(holiday[0] \n",
    "               for year in range(start_year, end_year + 1)\n",
    "               for holiday in cal.holidays(year)\n",
    "               if start.date() <= holiday[0] <= end.date())\n",
    "\n",
    "crimes['Holiday'] = crime_code['OCCURRED_ON_DATE'].isin(holidays)\n",
    "\n",
    "### https://stackoverflow.com/questions/57403835/pandas-using-workalendar-to-check-if-a-date-is-a-holiday-and-assigning-boolean?noredirect=1&lq=1"
   ]
  },
  {
   "cell_type": "markdown",
   "metadata": {},
   "source": [
    "#### Informações Climáticas"
   ]
  },
  {
   "cell_type": "code",
   "execution_count": 30,
   "metadata": {},
   "outputs": [
    {
     "ename": "KeyError",
     "evalue": "\"['DATE'] not found in axis\"",
     "output_type": "error",
     "traceback": [
      "\u001b[1;31m---------------------------------------------------------------------------\u001b[0m",
      "\u001b[1;31mKeyError\u001b[0m                                  Traceback (most recent call last)",
      "\u001b[1;32m<ipython-input-30-8dd7694cbdba>\u001b[0m in \u001b[0;36m<module>\u001b[1;34m\u001b[0m\n\u001b[1;32m----> 1\u001b[1;33m \u001b[0mboston_noaa\u001b[0m\u001b[1;33m.\u001b[0m\u001b[0mdrop\u001b[0m\u001b[1;33m(\u001b[0m\u001b[0mcolumns\u001b[0m \u001b[1;33m=\u001b[0m\u001b[1;33m[\u001b[0m\u001b[1;34m\"DATE\"\u001b[0m\u001b[1;33m]\u001b[0m\u001b[1;33m,\u001b[0m \u001b[0minplace\u001b[0m \u001b[1;33m=\u001b[0m \u001b[1;32mTrue\u001b[0m\u001b[1;33m)\u001b[0m\u001b[1;33m\u001b[0m\u001b[1;33m\u001b[0m\u001b[0m\n\u001b[0m\u001b[0;32m      2\u001b[0m \u001b[0mdata_noaa_boston\u001b[0m \u001b[1;33m=\u001b[0m \u001b[0mpd\u001b[0m\u001b[1;33m.\u001b[0m\u001b[0mmerge\u001b[0m\u001b[1;33m(\u001b[0m\u001b[0mcrime_code\u001b[0m\u001b[1;33m,\u001b[0m \u001b[0mboston_noaa\u001b[0m\u001b[1;33m,\u001b[0m \u001b[0mon\u001b[0m\u001b[1;33m=\u001b[0m\u001b[1;34m\"hash\"\u001b[0m\u001b[1;33m,\u001b[0m \u001b[0mhow\u001b[0m\u001b[1;33m=\u001b[0m\u001b[1;34m\"left\"\u001b[0m\u001b[1;33m)\u001b[0m\u001b[1;33m\u001b[0m\u001b[1;33m\u001b[0m\u001b[0m\n",
      "\u001b[1;32mC:\\Anaconda3\\lib\\site-packages\\pandas\\core\\frame.py\u001b[0m in \u001b[0;36mdrop\u001b[1;34m(self, labels, axis, index, columns, level, inplace, errors)\u001b[0m\n\u001b[0;32m   4115\u001b[0m             \u001b[0mlevel\u001b[0m\u001b[1;33m=\u001b[0m\u001b[0mlevel\u001b[0m\u001b[1;33m,\u001b[0m\u001b[1;33m\u001b[0m\u001b[1;33m\u001b[0m\u001b[0m\n\u001b[0;32m   4116\u001b[0m             \u001b[0minplace\u001b[0m\u001b[1;33m=\u001b[0m\u001b[0minplace\u001b[0m\u001b[1;33m,\u001b[0m\u001b[1;33m\u001b[0m\u001b[1;33m\u001b[0m\u001b[0m\n\u001b[1;32m-> 4117\u001b[1;33m             \u001b[0merrors\u001b[0m\u001b[1;33m=\u001b[0m\u001b[0merrors\u001b[0m\u001b[1;33m,\u001b[0m\u001b[1;33m\u001b[0m\u001b[1;33m\u001b[0m\u001b[0m\n\u001b[0m\u001b[0;32m   4118\u001b[0m         )\n\u001b[0;32m   4119\u001b[0m \u001b[1;33m\u001b[0m\u001b[0m\n",
      "\u001b[1;32mC:\\Anaconda3\\lib\\site-packages\\pandas\\core\\generic.py\u001b[0m in \u001b[0;36mdrop\u001b[1;34m(self, labels, axis, index, columns, level, inplace, errors)\u001b[0m\n\u001b[0;32m   3912\u001b[0m         \u001b[1;32mfor\u001b[0m \u001b[0maxis\u001b[0m\u001b[1;33m,\u001b[0m \u001b[0mlabels\u001b[0m \u001b[1;32min\u001b[0m \u001b[0maxes\u001b[0m\u001b[1;33m.\u001b[0m\u001b[0mitems\u001b[0m\u001b[1;33m(\u001b[0m\u001b[1;33m)\u001b[0m\u001b[1;33m:\u001b[0m\u001b[1;33m\u001b[0m\u001b[1;33m\u001b[0m\u001b[0m\n\u001b[0;32m   3913\u001b[0m             \u001b[1;32mif\u001b[0m \u001b[0mlabels\u001b[0m \u001b[1;32mis\u001b[0m \u001b[1;32mnot\u001b[0m \u001b[1;32mNone\u001b[0m\u001b[1;33m:\u001b[0m\u001b[1;33m\u001b[0m\u001b[1;33m\u001b[0m\u001b[0m\n\u001b[1;32m-> 3914\u001b[1;33m                 \u001b[0mobj\u001b[0m \u001b[1;33m=\u001b[0m \u001b[0mobj\u001b[0m\u001b[1;33m.\u001b[0m\u001b[0m_drop_axis\u001b[0m\u001b[1;33m(\u001b[0m\u001b[0mlabels\u001b[0m\u001b[1;33m,\u001b[0m \u001b[0maxis\u001b[0m\u001b[1;33m,\u001b[0m \u001b[0mlevel\u001b[0m\u001b[1;33m=\u001b[0m\u001b[0mlevel\u001b[0m\u001b[1;33m,\u001b[0m \u001b[0merrors\u001b[0m\u001b[1;33m=\u001b[0m\u001b[0merrors\u001b[0m\u001b[1;33m)\u001b[0m\u001b[1;33m\u001b[0m\u001b[1;33m\u001b[0m\u001b[0m\n\u001b[0m\u001b[0;32m   3915\u001b[0m \u001b[1;33m\u001b[0m\u001b[0m\n\u001b[0;32m   3916\u001b[0m         \u001b[1;32mif\u001b[0m \u001b[0minplace\u001b[0m\u001b[1;33m:\u001b[0m\u001b[1;33m\u001b[0m\u001b[1;33m\u001b[0m\u001b[0m\n",
      "\u001b[1;32mC:\\Anaconda3\\lib\\site-packages\\pandas\\core\\generic.py\u001b[0m in \u001b[0;36m_drop_axis\u001b[1;34m(self, labels, axis, level, errors)\u001b[0m\n\u001b[0;32m   3944\u001b[0m                 \u001b[0mnew_axis\u001b[0m \u001b[1;33m=\u001b[0m \u001b[0maxis\u001b[0m\u001b[1;33m.\u001b[0m\u001b[0mdrop\u001b[0m\u001b[1;33m(\u001b[0m\u001b[0mlabels\u001b[0m\u001b[1;33m,\u001b[0m \u001b[0mlevel\u001b[0m\u001b[1;33m=\u001b[0m\u001b[0mlevel\u001b[0m\u001b[1;33m,\u001b[0m \u001b[0merrors\u001b[0m\u001b[1;33m=\u001b[0m\u001b[0merrors\u001b[0m\u001b[1;33m)\u001b[0m\u001b[1;33m\u001b[0m\u001b[1;33m\u001b[0m\u001b[0m\n\u001b[0;32m   3945\u001b[0m             \u001b[1;32melse\u001b[0m\u001b[1;33m:\u001b[0m\u001b[1;33m\u001b[0m\u001b[1;33m\u001b[0m\u001b[0m\n\u001b[1;32m-> 3946\u001b[1;33m                 \u001b[0mnew_axis\u001b[0m \u001b[1;33m=\u001b[0m \u001b[0maxis\u001b[0m\u001b[1;33m.\u001b[0m\u001b[0mdrop\u001b[0m\u001b[1;33m(\u001b[0m\u001b[0mlabels\u001b[0m\u001b[1;33m,\u001b[0m \u001b[0merrors\u001b[0m\u001b[1;33m=\u001b[0m\u001b[0merrors\u001b[0m\u001b[1;33m)\u001b[0m\u001b[1;33m\u001b[0m\u001b[1;33m\u001b[0m\u001b[0m\n\u001b[0m\u001b[0;32m   3947\u001b[0m             \u001b[0mresult\u001b[0m \u001b[1;33m=\u001b[0m \u001b[0mself\u001b[0m\u001b[1;33m.\u001b[0m\u001b[0mreindex\u001b[0m\u001b[1;33m(\u001b[0m\u001b[1;33m**\u001b[0m\u001b[1;33m{\u001b[0m\u001b[0maxis_name\u001b[0m\u001b[1;33m:\u001b[0m \u001b[0mnew_axis\u001b[0m\u001b[1;33m}\u001b[0m\u001b[1;33m)\u001b[0m\u001b[1;33m\u001b[0m\u001b[1;33m\u001b[0m\u001b[0m\n\u001b[0;32m   3948\u001b[0m \u001b[1;33m\u001b[0m\u001b[0m\n",
      "\u001b[1;32mC:\\Anaconda3\\lib\\site-packages\\pandas\\core\\indexes\\base.py\u001b[0m in \u001b[0;36mdrop\u001b[1;34m(self, labels, errors)\u001b[0m\n\u001b[0;32m   5338\u001b[0m         \u001b[1;32mif\u001b[0m \u001b[0mmask\u001b[0m\u001b[1;33m.\u001b[0m\u001b[0many\u001b[0m\u001b[1;33m(\u001b[0m\u001b[1;33m)\u001b[0m\u001b[1;33m:\u001b[0m\u001b[1;33m\u001b[0m\u001b[1;33m\u001b[0m\u001b[0m\n\u001b[0;32m   5339\u001b[0m             \u001b[1;32mif\u001b[0m \u001b[0merrors\u001b[0m \u001b[1;33m!=\u001b[0m \u001b[1;34m\"ignore\"\u001b[0m\u001b[1;33m:\u001b[0m\u001b[1;33m\u001b[0m\u001b[1;33m\u001b[0m\u001b[0m\n\u001b[1;32m-> 5340\u001b[1;33m                 \u001b[1;32mraise\u001b[0m \u001b[0mKeyError\u001b[0m\u001b[1;33m(\u001b[0m\u001b[1;34m\"{} not found in axis\"\u001b[0m\u001b[1;33m.\u001b[0m\u001b[0mformat\u001b[0m\u001b[1;33m(\u001b[0m\u001b[0mlabels\u001b[0m\u001b[1;33m[\u001b[0m\u001b[0mmask\u001b[0m\u001b[1;33m]\u001b[0m\u001b[1;33m)\u001b[0m\u001b[1;33m)\u001b[0m\u001b[1;33m\u001b[0m\u001b[1;33m\u001b[0m\u001b[0m\n\u001b[0m\u001b[0;32m   5341\u001b[0m             \u001b[0mindexer\u001b[0m \u001b[1;33m=\u001b[0m \u001b[0mindexer\u001b[0m\u001b[1;33m[\u001b[0m\u001b[1;33m~\u001b[0m\u001b[0mmask\u001b[0m\u001b[1;33m]\u001b[0m\u001b[1;33m\u001b[0m\u001b[1;33m\u001b[0m\u001b[0m\n\u001b[0;32m   5342\u001b[0m         \u001b[1;32mreturn\u001b[0m \u001b[0mself\u001b[0m\u001b[1;33m.\u001b[0m\u001b[0mdelete\u001b[0m\u001b[1;33m(\u001b[0m\u001b[0mindexer\u001b[0m\u001b[1;33m)\u001b[0m\u001b[1;33m\u001b[0m\u001b[1;33m\u001b[0m\u001b[0m\n",
      "\u001b[1;31mKeyError\u001b[0m: \"['DATE'] not found in axis\""
     ]
    }
   ],
   "source": [
    "boston_noaa.drop(columns =[\"DATE\"], inplace = True) \n",
    "data_noaa_boston = pd.merge(crime_code, boston_noaa, on=\"hash\", how=\"left\")"
   ]
  },
  {
   "cell_type": "code",
   "execution_count": 31,
   "metadata": {
    "scrolled": true
   },
   "outputs": [
    {
     "data": {
      "text/html": [
       "<div>\n",
       "<style scoped>\n",
       "    .dataframe tbody tr th:only-of-type {\n",
       "        vertical-align: middle;\n",
       "    }\n",
       "\n",
       "    .dataframe tbody tr th {\n",
       "        vertical-align: top;\n",
       "    }\n",
       "\n",
       "    .dataframe thead th {\n",
       "        text-align: right;\n",
       "    }\n",
       "</style>\n",
       "<table border=\"1\" class=\"dataframe\">\n",
       "  <thead>\n",
       "    <tr style=\"text-align: right;\">\n",
       "      <th></th>\n",
       "      <th>INCIDENT_NUMBER</th>\n",
       "      <th>OFFENSE_CODE</th>\n",
       "      <th>OFFENSE_CODE_GROUP</th>\n",
       "      <th>OFFENSE_DESCRIPTION</th>\n",
       "      <th>DISTRICT</th>\n",
       "      <th>REPORTING_AREA</th>\n",
       "      <th>SHOOTING</th>\n",
       "      <th>OCCURRED_ON_DATE</th>\n",
       "      <th>YEAR</th>\n",
       "      <th>MONTH</th>\n",
       "      <th>...</th>\n",
       "      <th>hash</th>\n",
       "      <th>CODE</th>\n",
       "      <th>Day</th>\n",
       "      <th>Night</th>\n",
       "      <th>Holiday</th>\n",
       "      <th>PRCP</th>\n",
       "      <th>SNWD</th>\n",
       "      <th>TAVG</th>\n",
       "      <th>TMAX</th>\n",
       "      <th>TMIN</th>\n",
       "    </tr>\n",
       "  </thead>\n",
       "  <tbody>\n",
       "    <tr>\n",
       "      <th>0</th>\n",
       "      <td>TESTTEST2</td>\n",
       "      <td>423</td>\n",
       "      <td>NaN</td>\n",
       "      <td>ASSAULT - AGGRAVATED</td>\n",
       "      <td>External</td>\n",
       "      <td></td>\n",
       "      <td>0</td>\n",
       "      <td>2019-10-16 00:00:00</td>\n",
       "      <td>2019</td>\n",
       "      <td>10</td>\n",
       "      <td>...</td>\n",
       "      <td>-6673749431235165325</td>\n",
       "      <td>423</td>\n",
       "      <td>0</td>\n",
       "      <td>1</td>\n",
       "      <td>False</td>\n",
       "      <td>0.53</td>\n",
       "      <td>NaN</td>\n",
       "      <td>54</td>\n",
       "      <td>63</td>\n",
       "      <td>46</td>\n",
       "    </tr>\n",
       "    <tr>\n",
       "      <th>1</th>\n",
       "      <td>I92102201</td>\n",
       "      <td>3301</td>\n",
       "      <td>NaN</td>\n",
       "      <td>VERBAL DISPUTE</td>\n",
       "      <td>E13</td>\n",
       "      <td>583</td>\n",
       "      <td>0</td>\n",
       "      <td>2019-12-20 03:08:00</td>\n",
       "      <td>2019</td>\n",
       "      <td>12</td>\n",
       "      <td>...</td>\n",
       "      <td>-5696514194592867247</td>\n",
       "      <td>3301</td>\n",
       "      <td>0</td>\n",
       "      <td>1</td>\n",
       "      <td>False</td>\n",
       "      <td>0.00</td>\n",
       "      <td>NaN</td>\n",
       "      <td>23</td>\n",
       "      <td>33</td>\n",
       "      <td>17</td>\n",
       "    </tr>\n",
       "    <tr>\n",
       "      <th>2</th>\n",
       "      <td>I92097173</td>\n",
       "      <td>3115</td>\n",
       "      <td>NaN</td>\n",
       "      <td>INVESTIGATE PERSON</td>\n",
       "      <td>C11</td>\n",
       "      <td>355</td>\n",
       "      <td>0</td>\n",
       "      <td>2019-10-23 00:00:00</td>\n",
       "      <td>2019</td>\n",
       "      <td>10</td>\n",
       "      <td>...</td>\n",
       "      <td>2875787278229279061</td>\n",
       "      <td>3115</td>\n",
       "      <td>0</td>\n",
       "      <td>1</td>\n",
       "      <td>False</td>\n",
       "      <td>0.42</td>\n",
       "      <td>NaN</td>\n",
       "      <td>61</td>\n",
       "      <td>70</td>\n",
       "      <td>53</td>\n",
       "    </tr>\n",
       "    <tr>\n",
       "      <th>3</th>\n",
       "      <td>I92094519</td>\n",
       "      <td>3126</td>\n",
       "      <td>NaN</td>\n",
       "      <td>WARRANT ARREST - OUTSIDE OF BOSTON WARRANT</td>\n",
       "      <td>D14</td>\n",
       "      <td>765</td>\n",
       "      <td>0</td>\n",
       "      <td>2019-11-22 07:50:00</td>\n",
       "      <td>2019</td>\n",
       "      <td>11</td>\n",
       "      <td>...</td>\n",
       "      <td>1807267328962049023</td>\n",
       "      <td>3126</td>\n",
       "      <td>1</td>\n",
       "      <td>0</td>\n",
       "      <td>False</td>\n",
       "      <td>0.09</td>\n",
       "      <td>NaN</td>\n",
       "      <td>48</td>\n",
       "      <td>56</td>\n",
       "      <td>39</td>\n",
       "    </tr>\n",
       "    <tr>\n",
       "      <th>4</th>\n",
       "      <td>I92089785</td>\n",
       "      <td>3005</td>\n",
       "      <td>NaN</td>\n",
       "      <td>SICK ASSIST</td>\n",
       "      <td>E13</td>\n",
       "      <td>574</td>\n",
       "      <td>0</td>\n",
       "      <td>2019-11-05 18:00:00</td>\n",
       "      <td>2019</td>\n",
       "      <td>11</td>\n",
       "      <td>...</td>\n",
       "      <td>2084109179309942876</td>\n",
       "      <td>3005</td>\n",
       "      <td>0</td>\n",
       "      <td>1</td>\n",
       "      <td>False</td>\n",
       "      <td>0.40</td>\n",
       "      <td>NaN</td>\n",
       "      <td>52</td>\n",
       "      <td>58</td>\n",
       "      <td>45</td>\n",
       "    </tr>\n",
       "    <tr>\n",
       "      <th>...</th>\n",
       "      <td>...</td>\n",
       "      <td>...</td>\n",
       "      <td>...</td>\n",
       "      <td>...</td>\n",
       "      <td>...</td>\n",
       "      <td>...</td>\n",
       "      <td>...</td>\n",
       "      <td>...</td>\n",
       "      <td>...</td>\n",
       "      <td>...</td>\n",
       "      <td>...</td>\n",
       "      <td>...</td>\n",
       "      <td>...</td>\n",
       "      <td>...</td>\n",
       "      <td>...</td>\n",
       "      <td>...</td>\n",
       "      <td>...</td>\n",
       "      <td>...</td>\n",
       "      <td>...</td>\n",
       "      <td>...</td>\n",
       "      <td>...</td>\n",
       "    </tr>\n",
       "    <tr>\n",
       "      <th>455905</th>\n",
       "      <td>120200242</td>\n",
       "      <td>3115</td>\n",
       "      <td>NaN</td>\n",
       "      <td>INVESTIGATE PERSON</td>\n",
       "      <td>D4</td>\n",
       "      <td>167</td>\n",
       "      <td>0</td>\n",
       "      <td>2020-01-05 00:00:00</td>\n",
       "      <td>2020</td>\n",
       "      <td>1</td>\n",
       "      <td>...</td>\n",
       "      <td>-4643302127451433403</td>\n",
       "      <td>3115</td>\n",
       "      <td>0</td>\n",
       "      <td>1</td>\n",
       "      <td>False</td>\n",
       "      <td>0.11</td>\n",
       "      <td>NaN</td>\n",
       "      <td>39</td>\n",
       "      <td>41</td>\n",
       "      <td>32</td>\n",
       "    </tr>\n",
       "    <tr>\n",
       "      <th>455906</th>\n",
       "      <td>120200013</td>\n",
       "      <td>2403</td>\n",
       "      <td>NaN</td>\n",
       "      <td>DISTURBING THE PEACE/ DISORDERLY CONDUCT/ GATH...</td>\n",
       "      <td>A1</td>\n",
       "      <td>84</td>\n",
       "      <td>0</td>\n",
       "      <td>2020-01-01 01:02:00</td>\n",
       "      <td>2020</td>\n",
       "      <td>1</td>\n",
       "      <td>...</td>\n",
       "      <td>-7857699504478851962</td>\n",
       "      <td>2403</td>\n",
       "      <td>0</td>\n",
       "      <td>1</td>\n",
       "      <td>False</td>\n",
       "      <td>0.00</td>\n",
       "      <td>NaN</td>\n",
       "      <td>39</td>\n",
       "      <td>43</td>\n",
       "      <td>36</td>\n",
       "    </tr>\n",
       "    <tr>\n",
       "      <th>455907</th>\n",
       "      <td>102096818</td>\n",
       "      <td>3126</td>\n",
       "      <td>NaN</td>\n",
       "      <td>WARRANT ARREST - OUTSIDE OF BOSTON WARRANT</td>\n",
       "      <td>A1</td>\n",
       "      <td></td>\n",
       "      <td>0</td>\n",
       "      <td>2019-11-30 21:00:00</td>\n",
       "      <td>2019</td>\n",
       "      <td>11</td>\n",
       "      <td>...</td>\n",
       "      <td>7616453087075541518</td>\n",
       "      <td>3126</td>\n",
       "      <td>0</td>\n",
       "      <td>1</td>\n",
       "      <td>False</td>\n",
       "      <td>0.00</td>\n",
       "      <td>NaN</td>\n",
       "      <td>33</td>\n",
       "      <td>39</td>\n",
       "      <td>26</td>\n",
       "    </tr>\n",
       "    <tr>\n",
       "      <th>455908</th>\n",
       "      <td>102095489</td>\n",
       "      <td>3115</td>\n",
       "      <td>NaN</td>\n",
       "      <td>INVESTIGATE PERSON</td>\n",
       "      <td>E18</td>\n",
       "      <td>520</td>\n",
       "      <td>0</td>\n",
       "      <td>2019-11-25 16:30:00</td>\n",
       "      <td>2019</td>\n",
       "      <td>11</td>\n",
       "      <td>...</td>\n",
       "      <td>5635383585482463945</td>\n",
       "      <td>3115</td>\n",
       "      <td>1</td>\n",
       "      <td>0</td>\n",
       "      <td>False</td>\n",
       "      <td>0.00</td>\n",
       "      <td>NaN</td>\n",
       "      <td>46</td>\n",
       "      <td>54</td>\n",
       "      <td>41</td>\n",
       "    </tr>\n",
       "    <tr>\n",
       "      <th>455909</th>\n",
       "      <td>102091671</td>\n",
       "      <td>2647</td>\n",
       "      <td>NaN</td>\n",
       "      <td>THREATS TO DO BODILY HARM</td>\n",
       "      <td>B3</td>\n",
       "      <td>417</td>\n",
       "      <td>0</td>\n",
       "      <td>2019-11-12 12:00:00</td>\n",
       "      <td>2019</td>\n",
       "      <td>11</td>\n",
       "      <td>...</td>\n",
       "      <td>302791587930743837</td>\n",
       "      <td>2647</td>\n",
       "      <td>1</td>\n",
       "      <td>0</td>\n",
       "      <td>False</td>\n",
       "      <td>0.08</td>\n",
       "      <td>NaN</td>\n",
       "      <td>41</td>\n",
       "      <td>44</td>\n",
       "      <td>26</td>\n",
       "    </tr>\n",
       "  </tbody>\n",
       "</table>\n",
       "<p>455910 rows × 27 columns</p>\n",
       "</div>"
      ],
      "text/plain": [
       "       INCIDENT_NUMBER  OFFENSE_CODE OFFENSE_CODE_GROUP  \\\n",
       "0            TESTTEST2           423                NaN   \n",
       "1            I92102201          3301                NaN   \n",
       "2            I92097173          3115                NaN   \n",
       "3            I92094519          3126                NaN   \n",
       "4            I92089785          3005                NaN   \n",
       "...                ...           ...                ...   \n",
       "455905       120200242          3115                NaN   \n",
       "455906       120200013          2403                NaN   \n",
       "455907       102096818          3126                NaN   \n",
       "455908       102095489          3115                NaN   \n",
       "455909       102091671          2647                NaN   \n",
       "\n",
       "                                      OFFENSE_DESCRIPTION  DISTRICT  \\\n",
       "0                                    ASSAULT - AGGRAVATED  External   \n",
       "1                                          VERBAL DISPUTE       E13   \n",
       "2                                      INVESTIGATE PERSON       C11   \n",
       "3              WARRANT ARREST - OUTSIDE OF BOSTON WARRANT       D14   \n",
       "4                                             SICK ASSIST       E13   \n",
       "...                                                   ...       ...   \n",
       "455905                                 INVESTIGATE PERSON        D4   \n",
       "455906  DISTURBING THE PEACE/ DISORDERLY CONDUCT/ GATH...        A1   \n",
       "455907         WARRANT ARREST - OUTSIDE OF BOSTON WARRANT        A1   \n",
       "455908                                 INVESTIGATE PERSON       E18   \n",
       "455909                          THREATS TO DO BODILY HARM        B3   \n",
       "\n",
       "       REPORTING_AREA SHOOTING    OCCURRED_ON_DATE  YEAR  MONTH  ...  \\\n",
       "0                            0 2019-10-16 00:00:00  2019     10  ...   \n",
       "1                 583        0 2019-12-20 03:08:00  2019     12  ...   \n",
       "2                 355        0 2019-10-23 00:00:00  2019     10  ...   \n",
       "3                 765        0 2019-11-22 07:50:00  2019     11  ...   \n",
       "4                 574        0 2019-11-05 18:00:00  2019     11  ...   \n",
       "...               ...      ...                 ...   ...    ...  ...   \n",
       "455905            167        0 2020-01-05 00:00:00  2020      1  ...   \n",
       "455906             84        0 2020-01-01 01:02:00  2020      1  ...   \n",
       "455907                       0 2019-11-30 21:00:00  2019     11  ...   \n",
       "455908            520        0 2019-11-25 16:30:00  2019     11  ...   \n",
       "455909            417        0 2019-11-12 12:00:00  2019     11  ...   \n",
       "\n",
       "                       hash  CODE Day Night  Holiday  PRCP SNWD  TAVG  TMAX  \\\n",
       "0      -6673749431235165325   423   0     1    False  0.53  NaN    54    63   \n",
       "1      -5696514194592867247  3301   0     1    False  0.00  NaN    23    33   \n",
       "2       2875787278229279061  3115   0     1    False  0.42  NaN    61    70   \n",
       "3       1807267328962049023  3126   1     0    False  0.09  NaN    48    56   \n",
       "4       2084109179309942876  3005   0     1    False  0.40  NaN    52    58   \n",
       "...                     ...   ...  ..   ...      ...   ...  ...   ...   ...   \n",
       "455905 -4643302127451433403  3115   0     1    False  0.11  NaN    39    41   \n",
       "455906 -7857699504478851962  2403   0     1    False  0.00  NaN    39    43   \n",
       "455907  7616453087075541518  3126   0     1    False  0.00  NaN    33    39   \n",
       "455908  5635383585482463945  3115   1     0    False  0.00  NaN    46    54   \n",
       "455909   302791587930743837  2647   1     0    False  0.08  NaN    41    44   \n",
       "\n",
       "        TMIN  \n",
       "0         46  \n",
       "1         17  \n",
       "2         53  \n",
       "3         39  \n",
       "4         45  \n",
       "...      ...  \n",
       "455905    32  \n",
       "455906    36  \n",
       "455907    26  \n",
       "455908    41  \n",
       "455909    26  \n",
       "\n",
       "[455910 rows x 27 columns]"
      ]
     },
     "execution_count": 31,
     "metadata": {},
     "output_type": "execute_result"
    }
   ],
   "source": [
    "data_noaa_boston"
   ]
  },
  {
   "cell_type": "code",
   "execution_count": 32,
   "metadata": {},
   "outputs": [
    {
     "data": {
      "text/html": [
       "<div>\n",
       "<style scoped>\n",
       "    .dataframe tbody tr th:only-of-type {\n",
       "        vertical-align: middle;\n",
       "    }\n",
       "\n",
       "    .dataframe tbody tr th {\n",
       "        vertical-align: top;\n",
       "    }\n",
       "\n",
       "    .dataframe thead th {\n",
       "        text-align: right;\n",
       "    }\n",
       "</style>\n",
       "<table border=\"1\" class=\"dataframe\">\n",
       "  <thead>\n",
       "    <tr style=\"text-align: right;\">\n",
       "      <th></th>\n",
       "      <th>OFFENSE_CODE</th>\n",
       "      <th>YEAR</th>\n",
       "      <th>MONTH</th>\n",
       "      <th>HOUR</th>\n",
       "      <th>Lat</th>\n",
       "      <th>Long</th>\n",
       "      <th>hash</th>\n",
       "      <th>CODE</th>\n",
       "      <th>Day</th>\n",
       "      <th>Night</th>\n",
       "      <th>PRCP</th>\n",
       "      <th>SNWD</th>\n",
       "      <th>TAVG</th>\n",
       "      <th>TMAX</th>\n",
       "      <th>TMIN</th>\n",
       "    </tr>\n",
       "  </thead>\n",
       "  <tbody>\n",
       "    <tr>\n",
       "      <th>count</th>\n",
       "      <td>455910.000000</td>\n",
       "      <td>455910.000000</td>\n",
       "      <td>455910.000000</td>\n",
       "      <td>455910.000000</td>\n",
       "      <td>428184.000000</td>\n",
       "      <td>428184.000000</td>\n",
       "      <td>4.559100e+05</td>\n",
       "      <td>455910.000000</td>\n",
       "      <td>455910.000000</td>\n",
       "      <td>455910.000000</td>\n",
       "      <td>455910.000000</td>\n",
       "      <td>214.0</td>\n",
       "      <td>455910.000000</td>\n",
       "      <td>455910.000000</td>\n",
       "      <td>455910.000000</td>\n",
       "    </tr>\n",
       "    <tr>\n",
       "      <th>mean</th>\n",
       "      <td>2331.077570</td>\n",
       "      <td>2017.224022</td>\n",
       "      <td>6.819971</td>\n",
       "      <td>13.099491</td>\n",
       "      <td>42.228149</td>\n",
       "      <td>-70.931175</td>\n",
       "      <td>-9.652133e+16</td>\n",
       "      <td>2331.077570</td>\n",
       "      <td>0.720774</td>\n",
       "      <td>0.279226</td>\n",
       "      <td>0.115542</td>\n",
       "      <td>0.0</td>\n",
       "      <td>54.668185</td>\n",
       "      <td>62.458020</td>\n",
       "      <td>47.464960</td>\n",
       "    </tr>\n",
       "    <tr>\n",
       "      <th>std</th>\n",
       "      <td>1182.519318</td>\n",
       "      <td>1.343762</td>\n",
       "      <td>3.373510</td>\n",
       "      <td>6.317138</td>\n",
       "      <td>2.014842</td>\n",
       "      <td>3.259313</td>\n",
       "      <td>5.388019e+18</td>\n",
       "      <td>1182.519318</td>\n",
       "      <td>0.448619</td>\n",
       "      <td>0.448619</td>\n",
       "      <td>0.291204</td>\n",
       "      <td>0.0</td>\n",
       "      <td>16.853266</td>\n",
       "      <td>18.084856</td>\n",
       "      <td>16.491051</td>\n",
       "    </tr>\n",
       "    <tr>\n",
       "      <th>min</th>\n",
       "      <td>111.000000</td>\n",
       "      <td>2015.000000</td>\n",
       "      <td>1.000000</td>\n",
       "      <td>0.000000</td>\n",
       "      <td>-1.000000</td>\n",
       "      <td>-71.178674</td>\n",
       "      <td>-9.218988e+18</td>\n",
       "      <td>111.000000</td>\n",
       "      <td>0.000000</td>\n",
       "      <td>0.000000</td>\n",
       "      <td>0.000000</td>\n",
       "      <td>0.0</td>\n",
       "      <td>0.000000</td>\n",
       "      <td>10.000000</td>\n",
       "      <td>-9.000000</td>\n",
       "    </tr>\n",
       "    <tr>\n",
       "      <th>25%</th>\n",
       "      <td>1102.000000</td>\n",
       "      <td>2016.000000</td>\n",
       "      <td>4.000000</td>\n",
       "      <td>9.000000</td>\n",
       "      <td>42.297027</td>\n",
       "      <td>-71.097348</td>\n",
       "      <td>-4.844384e+18</td>\n",
       "      <td>1102.000000</td>\n",
       "      <td>0.000000</td>\n",
       "      <td>0.000000</td>\n",
       "      <td>0.000000</td>\n",
       "      <td>0.0</td>\n",
       "      <td>40.000000</td>\n",
       "      <td>48.000000</td>\n",
       "      <td>35.000000</td>\n",
       "    </tr>\n",
       "    <tr>\n",
       "      <th>50%</th>\n",
       "      <td>3002.000000</td>\n",
       "      <td>2017.000000</td>\n",
       "      <td>7.000000</td>\n",
       "      <td>14.000000</td>\n",
       "      <td>42.325538</td>\n",
       "      <td>-71.077667</td>\n",
       "      <td>-2.129754e+17</td>\n",
       "      <td>3002.000000</td>\n",
       "      <td>1.000000</td>\n",
       "      <td>0.000000</td>\n",
       "      <td>0.000000</td>\n",
       "      <td>0.0</td>\n",
       "      <td>55.000000</td>\n",
       "      <td>63.000000</td>\n",
       "      <td>48.000000</td>\n",
       "    </tr>\n",
       "    <tr>\n",
       "      <th>75%</th>\n",
       "      <td>3201.000000</td>\n",
       "      <td>2018.000000</td>\n",
       "      <td>10.000000</td>\n",
       "      <td>18.000000</td>\n",
       "      <td>42.348529</td>\n",
       "      <td>-71.062567</td>\n",
       "      <td>4.549584e+18</td>\n",
       "      <td>3201.000000</td>\n",
       "      <td>1.000000</td>\n",
       "      <td>1.000000</td>\n",
       "      <td>0.070000</td>\n",
       "      <td>0.0</td>\n",
       "      <td>70.000000</td>\n",
       "      <td>77.000000</td>\n",
       "      <td>62.000000</td>\n",
       "    </tr>\n",
       "    <tr>\n",
       "      <th>max</th>\n",
       "      <td>3831.000000</td>\n",
       "      <td>2020.000000</td>\n",
       "      <td>12.000000</td>\n",
       "      <td>23.000000</td>\n",
       "      <td>42.395042</td>\n",
       "      <td>0.000000</td>\n",
       "      <td>9.220009e+18</td>\n",
       "      <td>3831.000000</td>\n",
       "      <td>1.000000</td>\n",
       "      <td>1.000000</td>\n",
       "      <td>2.680000</td>\n",
       "      <td>0.0</td>\n",
       "      <td>90.000000</td>\n",
       "      <td>98.000000</td>\n",
       "      <td>83.000000</td>\n",
       "    </tr>\n",
       "  </tbody>\n",
       "</table>\n",
       "</div>"
      ],
      "text/plain": [
       "        OFFENSE_CODE           YEAR          MONTH           HOUR  \\\n",
       "count  455910.000000  455910.000000  455910.000000  455910.000000   \n",
       "mean     2331.077570    2017.224022       6.819971      13.099491   \n",
       "std      1182.519318       1.343762       3.373510       6.317138   \n",
       "min       111.000000    2015.000000       1.000000       0.000000   \n",
       "25%      1102.000000    2016.000000       4.000000       9.000000   \n",
       "50%      3002.000000    2017.000000       7.000000      14.000000   \n",
       "75%      3201.000000    2018.000000      10.000000      18.000000   \n",
       "max      3831.000000    2020.000000      12.000000      23.000000   \n",
       "\n",
       "                 Lat           Long          hash           CODE  \\\n",
       "count  428184.000000  428184.000000  4.559100e+05  455910.000000   \n",
       "mean       42.228149     -70.931175 -9.652133e+16    2331.077570   \n",
       "std         2.014842       3.259313  5.388019e+18    1182.519318   \n",
       "min        -1.000000     -71.178674 -9.218988e+18     111.000000   \n",
       "25%        42.297027     -71.097348 -4.844384e+18    1102.000000   \n",
       "50%        42.325538     -71.077667 -2.129754e+17    3002.000000   \n",
       "75%        42.348529     -71.062567  4.549584e+18    3201.000000   \n",
       "max        42.395042       0.000000  9.220009e+18    3831.000000   \n",
       "\n",
       "                 Day          Night           PRCP   SNWD           TAVG  \\\n",
       "count  455910.000000  455910.000000  455910.000000  214.0  455910.000000   \n",
       "mean        0.720774       0.279226       0.115542    0.0      54.668185   \n",
       "std         0.448619       0.448619       0.291204    0.0      16.853266   \n",
       "min         0.000000       0.000000       0.000000    0.0       0.000000   \n",
       "25%         0.000000       0.000000       0.000000    0.0      40.000000   \n",
       "50%         1.000000       0.000000       0.000000    0.0      55.000000   \n",
       "75%         1.000000       1.000000       0.070000    0.0      70.000000   \n",
       "max         1.000000       1.000000       2.680000    0.0      90.000000   \n",
       "\n",
       "                TMAX           TMIN  \n",
       "count  455910.000000  455910.000000  \n",
       "mean       62.458020      47.464960  \n",
       "std        18.084856      16.491051  \n",
       "min        10.000000      -9.000000  \n",
       "25%        48.000000      35.000000  \n",
       "50%        63.000000      48.000000  \n",
       "75%        77.000000      62.000000  \n",
       "max        98.000000      83.000000  "
      ]
     },
     "execution_count": 32,
     "metadata": {},
     "output_type": "execute_result"
    }
   ],
   "source": [
    "data_noaa_boston.describe()"
   ]
  },
  {
   "cell_type": "code",
   "execution_count": 33,
   "metadata": {},
   "outputs": [
    {
     "name": "stdout",
     "output_type": "stream",
     "text": [
      "<class 'pandas.core.frame.DataFrame'>\n",
      "Int64Index: 455910 entries, 0 to 455909\n",
      "Data columns (total 27 columns):\n",
      "INCIDENT_NUMBER        455910 non-null object\n",
      "OFFENSE_CODE           455910 non-null int64\n",
      "OFFENSE_CODE_GROUP     426839 non-null object\n",
      "OFFENSE_DESCRIPTION    455910 non-null object\n",
      "DISTRICT               453603 non-null object\n",
      "REPORTING_AREA         455910 non-null object\n",
      "SHOOTING               30817 non-null object\n",
      "OCCURRED_ON_DATE       455910 non-null datetime64[ns]\n",
      "YEAR                   455910 non-null int64\n",
      "MONTH                  455910 non-null int64\n",
      "DAY_OF_WEEK            455910 non-null object\n",
      "HOUR                   455910 non-null int64\n",
      "UCR_PART               426729 non-null object\n",
      "STREET                 440634 non-null object\n",
      "Lat                    428184 non-null float64\n",
      "Long                   428184 non-null float64\n",
      "Location               455910 non-null object\n",
      "hash                   455910 non-null int64\n",
      "CODE                   455910 non-null int64\n",
      "Day                    455910 non-null int64\n",
      "Night                  455910 non-null int64\n",
      "Holiday                455910 non-null bool\n",
      "PRCP                   455910 non-null float64\n",
      "SNWD                   214 non-null float64\n",
      "TAVG                   455910 non-null int64\n",
      "TMAX                   455910 non-null int64\n",
      "TMIN                   455910 non-null int64\n",
      "dtypes: bool(1), datetime64[ns](1), float64(4), int64(11), object(10)\n",
      "memory usage: 94.3+ MB\n"
     ]
    }
   ],
   "source": [
    "data_noaa_boston.info()"
   ]
  },
  {
   "cell_type": "code",
   "execution_count": null,
   "metadata": {},
   "outputs": [],
   "source": [
    "offense_codes"
   ]
  }
 ],
 "metadata": {
  "kernelspec": {
   "display_name": "Python 3",
   "language": "python",
   "name": "python3"
  },
  "language_info": {
   "codemirror_mode": {
    "name": "ipython",
    "version": 3
   },
   "file_extension": ".py",
   "mimetype": "text/x-python",
   "name": "python",
   "nbconvert_exporter": "python",
   "pygments_lexer": "ipython3",
   "version": "3.7.1"
  }
 },
 "nbformat": 4,
 "nbformat_minor": 2
}
